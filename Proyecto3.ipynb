{
 "cells": [
  {
   "cell_type": "markdown",
   "metadata": {},
   "source": [
    "<h1> Proyecto 3 </h1>"
   ]
  },
  {
   "cell_type": "raw",
   "metadata": {},
   "source": [
    "Paso 0-> Importar Librerías encesarias"
   ]
  },
  {
   "cell_type": "code",
   "execution_count": 1,
   "metadata": {},
   "outputs": [
    {
     "data": {
      "application/vnd.jupyter.widget-view+json": {
       "model_id": "e81e7dd0eb664b90be04b6f3f79201c2",
       "version_major": 2,
       "version_minor": 0
      },
      "text/plain": [
       "VBox()"
      ]
     },
     "metadata": {},
     "output_type": "display_data"
    },
    {
     "name": "stdout",
     "output_type": "stream",
     "text": [
      "Starting Spark application\n"
     ]
    },
    {
     "data": {
      "text/html": [
       "<table>\n",
       "<tr><th>ID</th><th>YARN Application ID</th><th>Kind</th><th>State</th><th>Spark UI</th><th>Driver log</th><th>Current session?</th></tr><tr><td>2</td><td>application_1589880021320_0003</td><td>pyspark</td><td>idle</td><td><a target=\"_blank\" href=\"http://ip-172-31-0-125.ec2.internal:20888/proxy/application_1589880021320_0003/\">Link</a></td><td><a target=\"_blank\" href=\"http://ip-172-31-0-125.ec2.internal:8042/node/containerlogs/container_1589880021320_0003_01_000001/livy\">Link</a></td><td>✔</td></tr></table>"
      ],
      "text/plain": [
       "<IPython.core.display.HTML object>"
      ]
     },
     "metadata": {},
     "output_type": "display_data"
    },
    {
     "data": {
      "application/vnd.jupyter.widget-view+json": {
       "model_id": "",
       "version_major": 2,
       "version_minor": 0
      },
      "text/plain": [
       "FloatProgress(value=0.0, bar_style='info', description='Progress:', layout=Layout(height='25px', width='50%'),…"
      ]
     },
     "metadata": {},
     "output_type": "display_data"
    },
    {
     "name": "stdout",
     "output_type": "stream",
     "text": [
      "SparkSession available as 'spark'.\n"
     ]
    },
    {
     "data": {
      "application/vnd.jupyter.widget-view+json": {
       "model_id": "",
       "version_major": 2,
       "version_minor": 0
      },
      "text/plain": [
       "FloatProgress(value=0.0, bar_style='info', description='Progress:', layout=Layout(height='25px', width='50%'),…"
      ]
     },
     "metadata": {},
     "output_type": "display_data"
    }
   ],
   "source": [
    "#import SparkSession\n",
    "from pyspark.sql import SparkSession\n",
    "from pyspark.sql.types import StringType,DoubleType,IntegerType\n",
    "# UDF\n",
    "from pyspark.sql.functions import udf\n",
    "#pandas udf\n",
    "from pyspark.sql.functions import pandas_udf, PandasUDFType"
   ]
  },
  {
   "cell_type": "code",
   "execution_count": 2,
   "metadata": {},
   "outputs": [
    {
     "data": {
      "application/vnd.jupyter.widget-view+json": {
       "model_id": "7a10ae22c8d249d9abaed65b8ef3c33d",
       "version_major": 2,
       "version_minor": 0
      },
      "text/plain": [
       "VBox()"
      ]
     },
     "metadata": {},
     "output_type": "display_data"
    },
    {
     "data": {
      "application/vnd.jupyter.widget-view+json": {
       "model_id": "",
       "version_major": 2,
       "version_minor": 0
      },
      "text/plain": [
       "FloatProgress(value=0.0, bar_style='info', description='Progress:', layout=Layout(height='25px', width='50%'),…"
      ]
     },
     "metadata": {},
     "output_type": "display_data"
    }
   ],
   "source": [
    "#create spar session object\n",
    "spark=SparkSession.builder.appName('data_processing').getOrCreate()"
   ]
  },
  {
   "cell_type": "markdown",
   "metadata": {},
   "source": [
    "<h3>Paso 1-> Convertir los csv en dataframes</h3>"
   ]
  },
  {
   "cell_type": "code",
   "execution_count": 3,
   "metadata": {},
   "outputs": [
    {
     "data": {
      "application/vnd.jupyter.widget-view+json": {
       "model_id": "3d42755862fb439d96ef5c5b171fbedb",
       "version_major": 2,
       "version_minor": 0
      },
      "text/plain": [
       "VBox()"
      ]
     },
     "metadata": {},
     "output_type": "display_data"
    },
    {
     "data": {
      "application/vnd.jupyter.widget-view+json": {
       "model_id": "",
       "version_major": 2,
       "version_minor": 0
      },
      "text/plain": [
       "FloatProgress(value=0.0, bar_style='info', description='Progress:', layout=Layout(height='25px', width='50%'),…"
      ]
     },
     "metadata": {},
     "output_type": "display_data"
    }
   ],
   "source": [
    "# Cargando los csv \n",
    "#cpcc = Casos positivos covid Colombia\n",
    "cpcc=spark.read.csv('s3://sebasawsbucket/Proyecto 3/datasets/Casos_positivos_de_COVID-19_en_Colombia.csv',inferSchema=True,header=True)\n",
    "#dcc = Datos covid Colombia \n",
    "dcc=spark.read.csv('s3://sebasawsbucket/Proyecto 3/datasets/covid19_colombia.csv',inferSchema=True,header=True)\n",
    "#cccg = Casos covid confirmados globalmente\n",
    "cccg=spark.read.csv('s3://sebasawsbucket/Proyecto 3/datasets/time_series_covid19_confirmed_global.csv',inferSchema=True,header=True)\n",
    "#ccmg = Casos covid muertos globalmente\n",
    "ccmg=spark.read.csv('s3://sebasawsbucket/Proyecto 3/datasets/time_series_covid19_deaths_global.csv',inferSchema=True,header=True)\n",
    "#ccrg = Casos covid recuperados globalmente\n",
    "ccrg=spark.read.csv('s3://sebasawsbucket/Proyecto 3/datasets/time_series_covid19_recovered_global.csv',inferSchema=True,header=True)"
   ]
  },
  {
   "cell_type": "markdown",
   "metadata": {},
   "source": [
    "<h3>Paso 2-> Visualizar los nombres de las columnas y encontrar patrones</h3>"
   ]
  },
  {
   "cell_type": "code",
   "execution_count": 4,
   "metadata": {},
   "outputs": [
    {
     "data": {
      "application/vnd.jupyter.widget-view+json": {
       "model_id": "633900798374411ab55ccc1a8ce64fd7",
       "version_major": 2,
       "version_minor": 0
      },
      "text/plain": [
       "VBox()"
      ]
     },
     "metadata": {},
     "output_type": "display_data"
    },
    {
     "data": {
      "application/vnd.jupyter.widget-view+json": {
       "model_id": "",
       "version_major": 2,
       "version_minor": 0
      },
      "text/plain": [
       "FloatProgress(value=0.0, bar_style='info', description='Progress:', layout=Layout(height='25px', width='50%'),…"
      ]
     },
     "metadata": {},
     "output_type": "display_data"
    },
    {
     "name": "stdout",
     "output_type": "stream",
     "text": [
      "['ID de caso', 'Fecha de notificación', 'Codigo DIVIPOLA', 'Ciudad de ubicación', 'Departamento o Distrito ', 'atención', 'Edad', 'Sexo', 'Tipo', 'Estado', 'País de procedencia', 'FIS', 'Fecha de muerte', 'Fecha diagnostico', 'Fecha recuperado', 'fecha reporte web']"
     ]
    }
   ],
   "source": [
    "#Columnas cpcc = Casos positivos covid Colombia\n",
    "cpcc.columns"
   ]
  },
  {
   "cell_type": "code",
   "execution_count": 5,
   "metadata": {},
   "outputs": [
    {
     "data": {
      "application/vnd.jupyter.widget-view+json": {
       "model_id": "b6c6984034f34f2d8ab8b25aef656f15",
       "version_major": 2,
       "version_minor": 0
      },
      "text/plain": [
       "VBox()"
      ]
     },
     "metadata": {},
     "output_type": "display_data"
    },
    {
     "data": {
      "application/vnd.jupyter.widget-view+json": {
       "model_id": "",
       "version_major": 2,
       "version_minor": 0
      },
      "text/plain": [
       "FloatProgress(value=0.0, bar_style='info', description='Progress:', layout=Layout(height='25px', width='50%'),…"
      ]
     },
     "metadata": {},
     "output_type": "display_data"
    },
    {
     "name": "stdout",
     "output_type": "stream",
     "text": [
      "['ID de caso', 'Fecha de notificación', 'Codigo DIVIPOLA', 'Ciudad de ubicación', 'Departamento o Distrito ', 'atención', 'Edad', 'Sexo', 'Tipo', 'Estado', 'País de procedencia', 'FIS', 'Fecha de muerte', 'Fecha diagnostico', 'Fecha recuperado', 'fecha reporte web']"
     ]
    }
   ],
   "source": [
    "#Columnas dcc = Datos covid Colombia \n",
    "dcc.columns"
   ]
  },
  {
   "cell_type": "raw",
   "metadata": {},
   "source": [
    "Patron-> Observamos que en las dos primeras tablas los datos poseen la misma estructura, esto nos habla de los bien que estan articuladas las multiples instituciones que producen estos datos ya que los datos fueron tomados de fuentes diferentes, el cambio más sustancial debe ser la fecha del reporte."
   ]
  },
  {
   "cell_type": "code",
   "execution_count": 6,
   "metadata": {},
   "outputs": [
    {
     "data": {
      "application/vnd.jupyter.widget-view+json": {
       "model_id": "9471480933344eb4b2e80d8317edfa86",
       "version_major": 2,
       "version_minor": 0
      },
      "text/plain": [
       "VBox()"
      ]
     },
     "metadata": {},
     "output_type": "display_data"
    },
    {
     "data": {
      "application/vnd.jupyter.widget-view+json": {
       "model_id": "",
       "version_major": 2,
       "version_minor": 0
      },
      "text/plain": [
       "FloatProgress(value=0.0, bar_style='info', description='Progress:', layout=Layout(height='25px', width='50%'),…"
      ]
     },
     "metadata": {},
     "output_type": "display_data"
    },
    {
     "name": "stdout",
     "output_type": "stream",
     "text": [
      "['Province/State', 'Country/Region', 'Lat', 'Long', '1/22/20', '1/23/20', '1/24/20', '1/25/20', '1/26/20', '1/27/20', '1/28/20', '1/29/20', '1/30/20', '1/31/20', '2/1/20', '2/2/20', '2/3/20', '2/4/20', '2/5/20', '2/6/20', '2/7/20', '2/8/20', '2/9/20', '2/10/20', '2/11/20', '2/12/20', '2/13/20', '2/14/20', '2/15/20', '2/16/20', '2/17/20', '2/18/20', '2/19/20', '2/20/20', '2/21/20', '2/22/20', '2/23/20', '2/24/20', '2/25/20', '2/26/20', '2/27/20', '2/28/20', '2/29/20', '3/1/20', '3/2/20', '3/3/20', '3/4/20', '3/5/20', '3/6/20', '3/7/20', '3/8/20', '3/9/20', '3/10/20', '3/11/20', '3/12/20', '3/13/20', '3/14/20', '3/15/20', '3/16/20', '3/17/20', '3/18/20', '3/19/20', '3/20/20', '3/21/20', '3/22/20', '3/23/20', '3/24/20', '3/25/20', '3/26/20', '3/27/20', '3/28/20', '3/29/20', '3/30/20', '3/31/20', '4/1/20', '4/2/20', '4/3/20', '4/4/20', '4/5/20', '4/6/20', '4/7/20', '4/8/20', '4/9/20', '4/10/20', '4/11/20', '4/12/20', '4/13/20', '4/14/20', '4/15/20', '4/16/20', '4/17/20', '4/18/20', '4/19/20', '4/20/20', '4/21/20', '4/22/20', '4/23/20', '4/24/20', '4/25/20', '4/26/20', '4/27/20', '4/28/20', '4/29/20', '4/30/20', '5/1/20', '5/2/20', '5/3/20', '5/4/20', '5/5/20', '5/6/20', '5/7/20', '5/8/20', '5/9/20', '5/10/20', '5/11/20', '5/12/20', '5/13/20', '5/14/20', '5/15/20', '5/16/20', '5/17/20', '5/18/20']"
     ]
    }
   ],
   "source": [
    "#Columnas cccg = Casos covid confirmados globalmente\n",
    "cccg.columns"
   ]
  },
  {
   "cell_type": "code",
   "execution_count": 7,
   "metadata": {},
   "outputs": [
    {
     "data": {
      "application/vnd.jupyter.widget-view+json": {
       "model_id": "df34a64da2f04284bc425d69e9cbb7cf",
       "version_major": 2,
       "version_minor": 0
      },
      "text/plain": [
       "VBox()"
      ]
     },
     "metadata": {},
     "output_type": "display_data"
    },
    {
     "data": {
      "application/vnd.jupyter.widget-view+json": {
       "model_id": "",
       "version_major": 2,
       "version_minor": 0
      },
      "text/plain": [
       "FloatProgress(value=0.0, bar_style='info', description='Progress:', layout=Layout(height='25px', width='50%'),…"
      ]
     },
     "metadata": {},
     "output_type": "display_data"
    },
    {
     "name": "stdout",
     "output_type": "stream",
     "text": [
      "['Province/State', 'Country/Region', 'Lat', 'Long', '1/22/20', '1/23/20', '1/24/20', '1/25/20', '1/26/20', '1/27/20', '1/28/20', '1/29/20', '1/30/20', '1/31/20', '2/1/20', '2/2/20', '2/3/20', '2/4/20', '2/5/20', '2/6/20', '2/7/20', '2/8/20', '2/9/20', '2/10/20', '2/11/20', '2/12/20', '2/13/20', '2/14/20', '2/15/20', '2/16/20', '2/17/20', '2/18/20', '2/19/20', '2/20/20', '2/21/20', '2/22/20', '2/23/20', '2/24/20', '2/25/20', '2/26/20', '2/27/20', '2/28/20', '2/29/20', '3/1/20', '3/2/20', '3/3/20', '3/4/20', '3/5/20', '3/6/20', '3/7/20', '3/8/20', '3/9/20', '3/10/20', '3/11/20', '3/12/20', '3/13/20', '3/14/20', '3/15/20', '3/16/20', '3/17/20', '3/18/20', '3/19/20', '3/20/20', '3/21/20', '3/22/20', '3/23/20', '3/24/20', '3/25/20', '3/26/20', '3/27/20', '3/28/20', '3/29/20', '3/30/20', '3/31/20', '4/1/20', '4/2/20', '4/3/20', '4/4/20', '4/5/20', '4/6/20', '4/7/20', '4/8/20', '4/9/20', '4/10/20', '4/11/20', '4/12/20', '4/13/20', '4/14/20', '4/15/20', '4/16/20', '4/17/20', '4/18/20', '4/19/20', '4/20/20', '4/21/20', '4/22/20', '4/23/20', '4/24/20', '4/25/20', '4/26/20', '4/27/20', '4/28/20', '4/29/20', '4/30/20', '5/1/20', '5/2/20', '5/3/20', '5/4/20', '5/5/20', '5/6/20', '5/7/20', '5/8/20', '5/9/20', '5/10/20', '5/11/20', '5/12/20', '5/13/20', '5/14/20', '5/15/20', '5/16/20', '5/17/20', '5/18/20']"
     ]
    }
   ],
   "source": [
    "#Columnas ccmg = Casos covid muertos globalmente\n",
    "ccmg.columns"
   ]
  },
  {
   "cell_type": "code",
   "execution_count": 8,
   "metadata": {},
   "outputs": [
    {
     "data": {
      "application/vnd.jupyter.widget-view+json": {
       "model_id": "12a93c478d684349a8fed99be40dde82",
       "version_major": 2,
       "version_minor": 0
      },
      "text/plain": [
       "VBox()"
      ]
     },
     "metadata": {},
     "output_type": "display_data"
    },
    {
     "data": {
      "application/vnd.jupyter.widget-view+json": {
       "model_id": "",
       "version_major": 2,
       "version_minor": 0
      },
      "text/plain": [
       "FloatProgress(value=0.0, bar_style='info', description='Progress:', layout=Layout(height='25px', width='50%'),…"
      ]
     },
     "metadata": {},
     "output_type": "display_data"
    },
    {
     "name": "stdout",
     "output_type": "stream",
     "text": [
      "['Province/State', 'Country/Region', 'Lat', 'Long', '1/22/20', '1/23/20', '1/24/20', '1/25/20', '1/26/20', '1/27/20', '1/28/20', '1/29/20', '1/30/20', '1/31/20', '2/1/20', '2/2/20', '2/3/20', '2/4/20', '2/5/20', '2/6/20', '2/7/20', '2/8/20', '2/9/20', '2/10/20', '2/11/20', '2/12/20', '2/13/20', '2/14/20', '2/15/20', '2/16/20', '2/17/20', '2/18/20', '2/19/20', '2/20/20', '2/21/20', '2/22/20', '2/23/20', '2/24/20', '2/25/20', '2/26/20', '2/27/20', '2/28/20', '2/29/20', '3/1/20', '3/2/20', '3/3/20', '3/4/20', '3/5/20', '3/6/20', '3/7/20', '3/8/20', '3/9/20', '3/10/20', '3/11/20', '3/12/20', '3/13/20', '3/14/20', '3/15/20', '3/16/20', '3/17/20', '3/18/20', '3/19/20', '3/20/20', '3/21/20', '3/22/20', '3/23/20', '3/24/20', '3/25/20', '3/26/20', '3/27/20', '3/28/20', '3/29/20', '3/30/20', '3/31/20', '4/1/20', '4/2/20', '4/3/20', '4/4/20', '4/5/20', '4/6/20', '4/7/20', '4/8/20', '4/9/20', '4/10/20', '4/11/20', '4/12/20', '4/13/20', '4/14/20', '4/15/20', '4/16/20', '4/17/20', '4/18/20', '4/19/20', '4/20/20', '4/21/20', '4/22/20', '4/23/20', '4/24/20', '4/25/20', '4/26/20', '4/27/20', '4/28/20', '4/29/20', '4/30/20', '5/1/20', '5/2/20', '5/3/20', '5/4/20', '5/5/20', '5/6/20', '5/7/20', '5/8/20', '5/9/20', '5/10/20', '5/11/20', '5/12/20', '5/13/20', '5/14/20', '5/15/20', '5/16/20', '5/17/20', '5/18/20']"
     ]
    }
   ],
   "source": [
    "#Columnas ccrg = Casos covid recuperados globalmente\n",
    "ccrg.columns"
   ]
  },
  {
   "cell_type": "raw",
   "metadata": {},
   "source": [
    "Patron-> Ya que estos datos son tomados de la organización mundial para la salud, es entendible que manejen las mismas fechas para los 3 formatos."
   ]
  },
  {
   "cell_type": "markdown",
   "metadata": {},
   "source": [
    "<h3>Paso 3-> Visualizar la Cantidad de Registros en los dataframes filas*columnas</h3>"
   ]
  },
  {
   "cell_type": "code",
   "execution_count": 9,
   "metadata": {},
   "outputs": [
    {
     "data": {
      "application/vnd.jupyter.widget-view+json": {
       "model_id": "3879015ef5034b2586308e469a4fa067",
       "version_major": 2,
       "version_minor": 0
      },
      "text/plain": [
       "VBox()"
      ]
     },
     "metadata": {},
     "output_type": "display_data"
    },
    {
     "data": {
      "application/vnd.jupyter.widget-view+json": {
       "model_id": "",
       "version_major": 2,
       "version_minor": 0
      },
      "text/plain": [
       "FloatProgress(value=0.0, bar_style='info', description='Progress:', layout=Layout(height='25px', width='50%'),…"
      ]
     },
     "metadata": {},
     "output_type": "display_data"
    },
    {
     "name": "stdout",
     "output_type": "stream",
     "text": [
      "(16295, 16)"
     ]
    }
   ],
   "source": [
    "#cpcc = Casos positivos covid Colombia\n",
    "print((cpcc.count(),len(cpcc.columns)))"
   ]
  },
  {
   "cell_type": "code",
   "execution_count": 10,
   "metadata": {},
   "outputs": [
    {
     "data": {
      "application/vnd.jupyter.widget-view+json": {
       "model_id": "130dce34bb094ff98d73375934a919a1",
       "version_major": 2,
       "version_minor": 0
      },
      "text/plain": [
       "VBox()"
      ]
     },
     "metadata": {},
     "output_type": "display_data"
    },
    {
     "data": {
      "application/vnd.jupyter.widget-view+json": {
       "model_id": "",
       "version_major": 2,
       "version_minor": 0
      },
      "text/plain": [
       "FloatProgress(value=0.0, bar_style='info', description='Progress:', layout=Layout(height='25px', width='50%'),…"
      ]
     },
     "metadata": {},
     "output_type": "display_data"
    },
    {
     "name": "stdout",
     "output_type": "stream",
     "text": [
      "(16296, 16)"
     ]
    }
   ],
   "source": [
    "#dcc = Datos covid Colombia \n",
    "print((dcc.count(),len(dcc.columns)))"
   ]
  },
  {
   "cell_type": "code",
   "execution_count": 11,
   "metadata": {},
   "outputs": [
    {
     "data": {
      "application/vnd.jupyter.widget-view+json": {
       "model_id": "5bc148073de14176a60c8df8798abc47",
       "version_major": 2,
       "version_minor": 0
      },
      "text/plain": [
       "VBox()"
      ]
     },
     "metadata": {},
     "output_type": "display_data"
    },
    {
     "data": {
      "application/vnd.jupyter.widget-view+json": {
       "model_id": "",
       "version_major": 2,
       "version_minor": 0
      },
      "text/plain": [
       "FloatProgress(value=0.0, bar_style='info', description='Progress:', layout=Layout(height='25px', width='50%'),…"
      ]
     },
     "metadata": {},
     "output_type": "display_data"
    },
    {
     "name": "stdout",
     "output_type": "stream",
     "text": [
      "(266, 122)"
     ]
    }
   ],
   "source": [
    "#cccg = Casos covid confirmados globalmente\n",
    "print((cccg.count(),len(cccg.columns)))"
   ]
  },
  {
   "cell_type": "code",
   "execution_count": 12,
   "metadata": {},
   "outputs": [
    {
     "data": {
      "application/vnd.jupyter.widget-view+json": {
       "model_id": "cb1bd825e8df449d95ed1a59bdad5348",
       "version_major": 2,
       "version_minor": 0
      },
      "text/plain": [
       "VBox()"
      ]
     },
     "metadata": {},
     "output_type": "display_data"
    },
    {
     "data": {
      "application/vnd.jupyter.widget-view+json": {
       "model_id": "",
       "version_major": 2,
       "version_minor": 0
      },
      "text/plain": [
       "FloatProgress(value=0.0, bar_style='info', description='Progress:', layout=Layout(height='25px', width='50%'),…"
      ]
     },
     "metadata": {},
     "output_type": "display_data"
    },
    {
     "name": "stdout",
     "output_type": "stream",
     "text": [
      "(266, 122)"
     ]
    }
   ],
   "source": [
    "#ccmg = Casos covid muertos globalmente\n",
    "print((ccmg.count(),len(ccmg.columns)))"
   ]
  },
  {
   "cell_type": "code",
   "execution_count": 13,
   "metadata": {},
   "outputs": [
    {
     "data": {
      "application/vnd.jupyter.widget-view+json": {
       "model_id": "01e5dd18650b4b2fbff38a77f8e3cc38",
       "version_major": 2,
       "version_minor": 0
      },
      "text/plain": [
       "VBox()"
      ]
     },
     "metadata": {},
     "output_type": "display_data"
    },
    {
     "data": {
      "application/vnd.jupyter.widget-view+json": {
       "model_id": "",
       "version_major": 2,
       "version_minor": 0
      },
      "text/plain": [
       "FloatProgress(value=0.0, bar_style='info', description='Progress:', layout=Layout(height='25px', width='50%'),…"
      ]
     },
     "metadata": {},
     "output_type": "display_data"
    },
    {
     "name": "stdout",
     "output_type": "stream",
     "text": [
      "(253, 122)"
     ]
    }
   ],
   "source": [
    "#ccrg = Casos covid recuperados globalmente\n",
    "print((ccrg.count(),len(ccrg.columns)))"
   ]
  },
  {
   "cell_type": "markdown",
   "metadata": {},
   "source": [
    "<h3>Paso 4-> Visualizar la estructura de los datos</h3>"
   ]
  },
  {
   "cell_type": "code",
   "execution_count": 14,
   "metadata": {},
   "outputs": [
    {
     "data": {
      "application/vnd.jupyter.widget-view+json": {
       "model_id": "d3def18cf14b4aecb47f437c31766f51",
       "version_major": 2,
       "version_minor": 0
      },
      "text/plain": [
       "VBox()"
      ]
     },
     "metadata": {},
     "output_type": "display_data"
    },
    {
     "data": {
      "application/vnd.jupyter.widget-view+json": {
       "model_id": "",
       "version_major": 2,
       "version_minor": 0
      },
      "text/plain": [
       "FloatProgress(value=0.0, bar_style='info', description='Progress:', layout=Layout(height='25px', width='50%'),…"
      ]
     },
     "metadata": {},
     "output_type": "display_data"
    },
    {
     "name": "stdout",
     "output_type": "stream",
     "text": [
      "root\n",
      " |-- ID de caso: integer (nullable = true)\n",
      " |-- Fecha de notificación: timestamp (nullable = true)\n",
      " |-- Codigo DIVIPOLA: integer (nullable = true)\n",
      " |-- Ciudad de ubicación: string (nullable = true)\n",
      " |-- Departamento o Distrito : string (nullable = true)\n",
      " |-- atención: string (nullable = true)\n",
      " |-- Edad: integer (nullable = true)\n",
      " |-- Sexo: string (nullable = true)\n",
      " |-- Tipo: string (nullable = true)\n",
      " |-- Estado: string (nullable = true)\n",
      " |-- País de procedencia: string (nullable = true)\n",
      " |-- FIS: string (nullable = true)\n",
      " |-- Fecha de muerte: string (nullable = true)\n",
      " |-- Fecha diagnostico: timestamp (nullable = true)\n",
      " |-- Fecha recuperado: string (nullable = true)\n",
      " |-- fecha reporte web: timestamp (nullable = true)"
     ]
    }
   ],
   "source": [
    "#cpcc = Casos positivos covid Colombia\n",
    "cpcc.printSchema()"
   ]
  },
  {
   "cell_type": "code",
   "execution_count": 15,
   "metadata": {},
   "outputs": [
    {
     "data": {
      "application/vnd.jupyter.widget-view+json": {
       "model_id": "7473ce8cc6ce417cad3a76a3c44e787e",
       "version_major": 2,
       "version_minor": 0
      },
      "text/plain": [
       "VBox()"
      ]
     },
     "metadata": {},
     "output_type": "display_data"
    },
    {
     "data": {
      "application/vnd.jupyter.widget-view+json": {
       "model_id": "",
       "version_major": 2,
       "version_minor": 0
      },
      "text/plain": [
       "FloatProgress(value=0.0, bar_style='info', description='Progress:', layout=Layout(height='25px', width='50%'),…"
      ]
     },
     "metadata": {},
     "output_type": "display_data"
    },
    {
     "name": "stdout",
     "output_type": "stream",
     "text": [
      "root\n",
      " |-- ID de caso: string (nullable = true)\n",
      " |-- Fecha de notificación: string (nullable = true)\n",
      " |-- Codigo DIVIPOLA: string (nullable = true)\n",
      " |-- Ciudad de ubicación: string (nullable = true)\n",
      " |-- Departamento o Distrito : string (nullable = true)\n",
      " |-- atención: string (nullable = true)\n",
      " |-- Edad: string (nullable = true)\n",
      " |-- Sexo: string (nullable = true)\n",
      " |-- Tipo: string (nullable = true)\n",
      " |-- Estado: string (nullable = true)\n",
      " |-- País de procedencia: string (nullable = true)\n",
      " |-- FIS: string (nullable = true)\n",
      " |-- Fecha de muerte: string (nullable = true)\n",
      " |-- Fecha diagnostico: string (nullable = true)\n",
      " |-- Fecha recuperado: string (nullable = true)\n",
      " |-- fecha reporte web: string (nullable = true)"
     ]
    }
   ],
   "source": [
    "#dcc = Datos covid Colombia \n",
    "dcc.printSchema()"
   ]
  },
  {
   "cell_type": "code",
   "execution_count": 16,
   "metadata": {},
   "outputs": [
    {
     "data": {
      "application/vnd.jupyter.widget-view+json": {
       "model_id": "07ab7934513345d583c2126eff4129d0",
       "version_major": 2,
       "version_minor": 0
      },
      "text/plain": [
       "VBox()"
      ]
     },
     "metadata": {},
     "output_type": "display_data"
    },
    {
     "data": {
      "application/vnd.jupyter.widget-view+json": {
       "model_id": "",
       "version_major": 2,
       "version_minor": 0
      },
      "text/plain": [
       "FloatProgress(value=0.0, bar_style='info', description='Progress:', layout=Layout(height='25px', width='50%'),…"
      ]
     },
     "metadata": {},
     "output_type": "display_data"
    },
    {
     "name": "stdout",
     "output_type": "stream",
     "text": [
      "root\n",
      " |-- Province/State: string (nullable = true)\n",
      " |-- Country/Region: string (nullable = true)\n",
      " |-- Lat: double (nullable = true)\n",
      " |-- Long: double (nullable = true)\n",
      " |-- 1/22/20: integer (nullable = true)\n",
      " |-- 1/23/20: integer (nullable = true)\n",
      " |-- 1/24/20: integer (nullable = true)\n",
      " |-- 1/25/20: integer (nullable = true)\n",
      " |-- 1/26/20: integer (nullable = true)\n",
      " |-- 1/27/20: integer (nullable = true)\n",
      " |-- 1/28/20: integer (nullable = true)\n",
      " |-- 1/29/20: integer (nullable = true)\n",
      " |-- 1/30/20: integer (nullable = true)\n",
      " |-- 1/31/20: integer (nullable = true)\n",
      " |-- 2/1/20: integer (nullable = true)\n",
      " |-- 2/2/20: integer (nullable = true)\n",
      " |-- 2/3/20: integer (nullable = true)\n",
      " |-- 2/4/20: integer (nullable = true)\n",
      " |-- 2/5/20: integer (nullable = true)\n",
      " |-- 2/6/20: integer (nullable = true)\n",
      " |-- 2/7/20: integer (nullable = true)\n",
      " |-- 2/8/20: integer (nullable = true)\n",
      " |-- 2/9/20: integer (nullable = true)\n",
      " |-- 2/10/20: integer (nullable = true)\n",
      " |-- 2/11/20: integer (nullable = true)\n",
      " |-- 2/12/20: integer (nullable = true)\n",
      " |-- 2/13/20: integer (nullable = true)\n",
      " |-- 2/14/20: integer (nullable = true)\n",
      " |-- 2/15/20: integer (nullable = true)\n",
      " |-- 2/16/20: integer (nullable = true)\n",
      " |-- 2/17/20: integer (nullable = true)\n",
      " |-- 2/18/20: integer (nullable = true)\n",
      " |-- 2/19/20: integer (nullable = true)\n",
      " |-- 2/20/20: integer (nullable = true)\n",
      " |-- 2/21/20: integer (nullable = true)\n",
      " |-- 2/22/20: integer (nullable = true)\n",
      " |-- 2/23/20: integer (nullable = true)\n",
      " |-- 2/24/20: integer (nullable = true)\n",
      " |-- 2/25/20: integer (nullable = true)\n",
      " |-- 2/26/20: integer (nullable = true)\n",
      " |-- 2/27/20: integer (nullable = true)\n",
      " |-- 2/28/20: integer (nullable = true)\n",
      " |-- 2/29/20: integer (nullable = true)\n",
      " |-- 3/1/20: integer (nullable = true)\n",
      " |-- 3/2/20: integer (nullable = true)\n",
      " |-- 3/3/20: integer (nullable = true)\n",
      " |-- 3/4/20: integer (nullable = true)\n",
      " |-- 3/5/20: integer (nullable = true)\n",
      " |-- 3/6/20: integer (nullable = true)\n",
      " |-- 3/7/20: integer (nullable = true)\n",
      " |-- 3/8/20: integer (nullable = true)\n",
      " |-- 3/9/20: integer (nullable = true)\n",
      " |-- 3/10/20: integer (nullable = true)\n",
      " |-- 3/11/20: integer (nullable = true)\n",
      " |-- 3/12/20: integer (nullable = true)\n",
      " |-- 3/13/20: integer (nullable = true)\n",
      " |-- 3/14/20: integer (nullable = true)\n",
      " |-- 3/15/20: integer (nullable = true)\n",
      " |-- 3/16/20: integer (nullable = true)\n",
      " |-- 3/17/20: integer (nullable = true)\n",
      " |-- 3/18/20: integer (nullable = true)\n",
      " |-- 3/19/20: integer (nullable = true)\n",
      " |-- 3/20/20: integer (nullable = true)\n",
      " |-- 3/21/20: integer (nullable = true)\n",
      " |-- 3/22/20: integer (nullable = true)\n",
      " |-- 3/23/20: integer (nullable = true)\n",
      " |-- 3/24/20: integer (nullable = true)\n",
      " |-- 3/25/20: integer (nullable = true)\n",
      " |-- 3/26/20: integer (nullable = true)\n",
      " |-- 3/27/20: integer (nullable = true)\n",
      " |-- 3/28/20: integer (nullable = true)\n",
      " |-- 3/29/20: integer (nullable = true)\n",
      " |-- 3/30/20: integer (nullable = true)\n",
      " |-- 3/31/20: integer (nullable = true)\n",
      " |-- 4/1/20: integer (nullable = true)\n",
      " |-- 4/2/20: integer (nullable = true)\n",
      " |-- 4/3/20: integer (nullable = true)\n",
      " |-- 4/4/20: integer (nullable = true)\n",
      " |-- 4/5/20: integer (nullable = true)\n",
      " |-- 4/6/20: integer (nullable = true)\n",
      " |-- 4/7/20: integer (nullable = true)\n",
      " |-- 4/8/20: integer (nullable = true)\n",
      " |-- 4/9/20: integer (nullable = true)\n",
      " |-- 4/10/20: integer (nullable = true)\n",
      " |-- 4/11/20: integer (nullable = true)\n",
      " |-- 4/12/20: integer (nullable = true)\n",
      " |-- 4/13/20: integer (nullable = true)\n",
      " |-- 4/14/20: integer (nullable = true)\n",
      " |-- 4/15/20: integer (nullable = true)\n",
      " |-- 4/16/20: integer (nullable = true)\n",
      " |-- 4/17/20: integer (nullable = true)\n",
      " |-- 4/18/20: integer (nullable = true)\n",
      " |-- 4/19/20: integer (nullable = true)\n",
      " |-- 4/20/20: integer (nullable = true)\n",
      " |-- 4/21/20: integer (nullable = true)\n",
      " |-- 4/22/20: integer (nullable = true)\n",
      " |-- 4/23/20: integer (nullable = true)\n",
      " |-- 4/24/20: integer (nullable = true)\n",
      " |-- 4/25/20: integer (nullable = true)\n",
      " |-- 4/26/20: integer (nullable = true)\n",
      " |-- 4/27/20: integer (nullable = true)\n",
      " |-- 4/28/20: integer (nullable = true)\n",
      " |-- 4/29/20: integer (nullable = true)\n",
      " |-- 4/30/20: integer (nullable = true)\n",
      " |-- 5/1/20: integer (nullable = true)\n",
      " |-- 5/2/20: integer (nullable = true)\n",
      " |-- 5/3/20: integer (nullable = true)\n",
      " |-- 5/4/20: integer (nullable = true)\n",
      " |-- 5/5/20: integer (nullable = true)\n",
      " |-- 5/6/20: integer (nullable = true)\n",
      " |-- 5/7/20: integer (nullable = true)\n",
      " |-- 5/8/20: integer (nullable = true)\n",
      " |-- 5/9/20: integer (nullable = true)\n",
      " |-- 5/10/20: integer (nullable = true)\n",
      " |-- 5/11/20: integer (nullable = true)\n",
      " |-- 5/12/20: integer (nullable = true)\n",
      " |-- 5/13/20: integer (nullable = true)\n",
      " |-- 5/14/20: integer (nullable = true)\n",
      " |-- 5/15/20: integer (nullable = true)\n",
      " |-- 5/16/20: integer (nullable = true)\n",
      " |-- 5/17/20: integer (nullable = true)\n",
      " |-- 5/18/20: integer (nullable = true)"
     ]
    }
   ],
   "source": [
    "#cccg = Casos covid confirmados globalmente\n",
    "cccg.printSchema()"
   ]
  },
  {
   "cell_type": "code",
   "execution_count": 17,
   "metadata": {},
   "outputs": [
    {
     "data": {
      "application/vnd.jupyter.widget-view+json": {
       "model_id": "497711360356462d9e560c465dd947f2",
       "version_major": 2,
       "version_minor": 0
      },
      "text/plain": [
       "VBox()"
      ]
     },
     "metadata": {},
     "output_type": "display_data"
    },
    {
     "data": {
      "application/vnd.jupyter.widget-view+json": {
       "model_id": "",
       "version_major": 2,
       "version_minor": 0
      },
      "text/plain": [
       "FloatProgress(value=0.0, bar_style='info', description='Progress:', layout=Layout(height='25px', width='50%'),…"
      ]
     },
     "metadata": {},
     "output_type": "display_data"
    },
    {
     "name": "stdout",
     "output_type": "stream",
     "text": [
      "root\n",
      " |-- Province/State: string (nullable = true)\n",
      " |-- Country/Region: string (nullable = true)\n",
      " |-- Lat: double (nullable = true)\n",
      " |-- Long: double (nullable = true)\n",
      " |-- 1/22/20: integer (nullable = true)\n",
      " |-- 1/23/20: integer (nullable = true)\n",
      " |-- 1/24/20: integer (nullable = true)\n",
      " |-- 1/25/20: integer (nullable = true)\n",
      " |-- 1/26/20: integer (nullable = true)\n",
      " |-- 1/27/20: integer (nullable = true)\n",
      " |-- 1/28/20: integer (nullable = true)\n",
      " |-- 1/29/20: integer (nullable = true)\n",
      " |-- 1/30/20: integer (nullable = true)\n",
      " |-- 1/31/20: integer (nullable = true)\n",
      " |-- 2/1/20: integer (nullable = true)\n",
      " |-- 2/2/20: integer (nullable = true)\n",
      " |-- 2/3/20: integer (nullable = true)\n",
      " |-- 2/4/20: integer (nullable = true)\n",
      " |-- 2/5/20: integer (nullable = true)\n",
      " |-- 2/6/20: integer (nullable = true)\n",
      " |-- 2/7/20: integer (nullable = true)\n",
      " |-- 2/8/20: integer (nullable = true)\n",
      " |-- 2/9/20: integer (nullable = true)\n",
      " |-- 2/10/20: integer (nullable = true)\n",
      " |-- 2/11/20: integer (nullable = true)\n",
      " |-- 2/12/20: integer (nullable = true)\n",
      " |-- 2/13/20: integer (nullable = true)\n",
      " |-- 2/14/20: integer (nullable = true)\n",
      " |-- 2/15/20: integer (nullable = true)\n",
      " |-- 2/16/20: integer (nullable = true)\n",
      " |-- 2/17/20: integer (nullable = true)\n",
      " |-- 2/18/20: integer (nullable = true)\n",
      " |-- 2/19/20: integer (nullable = true)\n",
      " |-- 2/20/20: integer (nullable = true)\n",
      " |-- 2/21/20: integer (nullable = true)\n",
      " |-- 2/22/20: integer (nullable = true)\n",
      " |-- 2/23/20: integer (nullable = true)\n",
      " |-- 2/24/20: integer (nullable = true)\n",
      " |-- 2/25/20: integer (nullable = true)\n",
      " |-- 2/26/20: integer (nullable = true)\n",
      " |-- 2/27/20: integer (nullable = true)\n",
      " |-- 2/28/20: integer (nullable = true)\n",
      " |-- 2/29/20: integer (nullable = true)\n",
      " |-- 3/1/20: integer (nullable = true)\n",
      " |-- 3/2/20: integer (nullable = true)\n",
      " |-- 3/3/20: integer (nullable = true)\n",
      " |-- 3/4/20: integer (nullable = true)\n",
      " |-- 3/5/20: integer (nullable = true)\n",
      " |-- 3/6/20: integer (nullable = true)\n",
      " |-- 3/7/20: integer (nullable = true)\n",
      " |-- 3/8/20: integer (nullable = true)\n",
      " |-- 3/9/20: integer (nullable = true)\n",
      " |-- 3/10/20: integer (nullable = true)\n",
      " |-- 3/11/20: integer (nullable = true)\n",
      " |-- 3/12/20: integer (nullable = true)\n",
      " |-- 3/13/20: integer (nullable = true)\n",
      " |-- 3/14/20: integer (nullable = true)\n",
      " |-- 3/15/20: integer (nullable = true)\n",
      " |-- 3/16/20: integer (nullable = true)\n",
      " |-- 3/17/20: integer (nullable = true)\n",
      " |-- 3/18/20: integer (nullable = true)\n",
      " |-- 3/19/20: integer (nullable = true)\n",
      " |-- 3/20/20: integer (nullable = true)\n",
      " |-- 3/21/20: integer (nullable = true)\n",
      " |-- 3/22/20: integer (nullable = true)\n",
      " |-- 3/23/20: integer (nullable = true)\n",
      " |-- 3/24/20: integer (nullable = true)\n",
      " |-- 3/25/20: integer (nullable = true)\n",
      " |-- 3/26/20: integer (nullable = true)\n",
      " |-- 3/27/20: integer (nullable = true)\n",
      " |-- 3/28/20: integer (nullable = true)\n",
      " |-- 3/29/20: integer (nullable = true)\n",
      " |-- 3/30/20: integer (nullable = true)\n",
      " |-- 3/31/20: integer (nullable = true)\n",
      " |-- 4/1/20: integer (nullable = true)\n",
      " |-- 4/2/20: integer (nullable = true)\n",
      " |-- 4/3/20: integer (nullable = true)\n",
      " |-- 4/4/20: integer (nullable = true)\n",
      " |-- 4/5/20: integer (nullable = true)\n",
      " |-- 4/6/20: integer (nullable = true)\n",
      " |-- 4/7/20: integer (nullable = true)\n",
      " |-- 4/8/20: integer (nullable = true)\n",
      " |-- 4/9/20: integer (nullable = true)\n",
      " |-- 4/10/20: integer (nullable = true)\n",
      " |-- 4/11/20: integer (nullable = true)\n",
      " |-- 4/12/20: integer (nullable = true)\n",
      " |-- 4/13/20: integer (nullable = true)\n",
      " |-- 4/14/20: integer (nullable = true)\n",
      " |-- 4/15/20: integer (nullable = true)\n",
      " |-- 4/16/20: integer (nullable = true)\n",
      " |-- 4/17/20: integer (nullable = true)\n",
      " |-- 4/18/20: integer (nullable = true)\n",
      " |-- 4/19/20: integer (nullable = true)\n",
      " |-- 4/20/20: integer (nullable = true)\n",
      " |-- 4/21/20: integer (nullable = true)\n",
      " |-- 4/22/20: integer (nullable = true)\n",
      " |-- 4/23/20: integer (nullable = true)\n",
      " |-- 4/24/20: integer (nullable = true)\n",
      " |-- 4/25/20: integer (nullable = true)\n",
      " |-- 4/26/20: integer (nullable = true)\n",
      " |-- 4/27/20: integer (nullable = true)\n",
      " |-- 4/28/20: integer (nullable = true)\n",
      " |-- 4/29/20: integer (nullable = true)\n",
      " |-- 4/30/20: integer (nullable = true)\n",
      " |-- 5/1/20: integer (nullable = true)\n",
      " |-- 5/2/20: integer (nullable = true)\n",
      " |-- 5/3/20: integer (nullable = true)\n",
      " |-- 5/4/20: integer (nullable = true)\n",
      " |-- 5/5/20: integer (nullable = true)\n",
      " |-- 5/6/20: integer (nullable = true)\n",
      " |-- 5/7/20: integer (nullable = true)\n",
      " |-- 5/8/20: integer (nullable = true)\n",
      " |-- 5/9/20: integer (nullable = true)\n",
      " |-- 5/10/20: integer (nullable = true)\n",
      " |-- 5/11/20: integer (nullable = true)\n",
      " |-- 5/12/20: integer (nullable = true)\n",
      " |-- 5/13/20: integer (nullable = true)\n",
      " |-- 5/14/20: integer (nullable = true)\n",
      " |-- 5/15/20: integer (nullable = true)\n",
      " |-- 5/16/20: integer (nullable = true)\n",
      " |-- 5/17/20: integer (nullable = true)\n",
      " |-- 5/18/20: integer (nullable = true)"
     ]
    }
   ],
   "source": [
    "#ccmg = Casos covid muertos globalmente\n",
    "ccmg.printSchema()"
   ]
  },
  {
   "cell_type": "code",
   "execution_count": 18,
   "metadata": {},
   "outputs": [
    {
     "data": {
      "application/vnd.jupyter.widget-view+json": {
       "model_id": "f603434972634d95ba6a439cd3099ea7",
       "version_major": 2,
       "version_minor": 0
      },
      "text/plain": [
       "VBox()"
      ]
     },
     "metadata": {},
     "output_type": "display_data"
    },
    {
     "data": {
      "application/vnd.jupyter.widget-view+json": {
       "model_id": "",
       "version_major": 2,
       "version_minor": 0
      },
      "text/plain": [
       "FloatProgress(value=0.0, bar_style='info', description='Progress:', layout=Layout(height='25px', width='50%'),…"
      ]
     },
     "metadata": {},
     "output_type": "display_data"
    },
    {
     "name": "stdout",
     "output_type": "stream",
     "text": [
      "root\n",
      " |-- Province/State: string (nullable = true)\n",
      " |-- Country/Region: string (nullable = true)\n",
      " |-- Lat: double (nullable = true)\n",
      " |-- Long: double (nullable = true)\n",
      " |-- 1/22/20: integer (nullable = true)\n",
      " |-- 1/23/20: integer (nullable = true)\n",
      " |-- 1/24/20: integer (nullable = true)\n",
      " |-- 1/25/20: integer (nullable = true)\n",
      " |-- 1/26/20: integer (nullable = true)\n",
      " |-- 1/27/20: integer (nullable = true)\n",
      " |-- 1/28/20: integer (nullable = true)\n",
      " |-- 1/29/20: integer (nullable = true)\n",
      " |-- 1/30/20: integer (nullable = true)\n",
      " |-- 1/31/20: integer (nullable = true)\n",
      " |-- 2/1/20: integer (nullable = true)\n",
      " |-- 2/2/20: integer (nullable = true)\n",
      " |-- 2/3/20: integer (nullable = true)\n",
      " |-- 2/4/20: integer (nullable = true)\n",
      " |-- 2/5/20: integer (nullable = true)\n",
      " |-- 2/6/20: integer (nullable = true)\n",
      " |-- 2/7/20: integer (nullable = true)\n",
      " |-- 2/8/20: integer (nullable = true)\n",
      " |-- 2/9/20: integer (nullable = true)\n",
      " |-- 2/10/20: integer (nullable = true)\n",
      " |-- 2/11/20: integer (nullable = true)\n",
      " |-- 2/12/20: integer (nullable = true)\n",
      " |-- 2/13/20: integer (nullable = true)\n",
      " |-- 2/14/20: integer (nullable = true)\n",
      " |-- 2/15/20: integer (nullable = true)\n",
      " |-- 2/16/20: integer (nullable = true)\n",
      " |-- 2/17/20: integer (nullable = true)\n",
      " |-- 2/18/20: integer (nullable = true)\n",
      " |-- 2/19/20: integer (nullable = true)\n",
      " |-- 2/20/20: integer (nullable = true)\n",
      " |-- 2/21/20: integer (nullable = true)\n",
      " |-- 2/22/20: integer (nullable = true)\n",
      " |-- 2/23/20: integer (nullable = true)\n",
      " |-- 2/24/20: integer (nullable = true)\n",
      " |-- 2/25/20: integer (nullable = true)\n",
      " |-- 2/26/20: integer (nullable = true)\n",
      " |-- 2/27/20: integer (nullable = true)\n",
      " |-- 2/28/20: integer (nullable = true)\n",
      " |-- 2/29/20: integer (nullable = true)\n",
      " |-- 3/1/20: integer (nullable = true)\n",
      " |-- 3/2/20: integer (nullable = true)\n",
      " |-- 3/3/20: integer (nullable = true)\n",
      " |-- 3/4/20: integer (nullable = true)\n",
      " |-- 3/5/20: integer (nullable = true)\n",
      " |-- 3/6/20: integer (nullable = true)\n",
      " |-- 3/7/20: integer (nullable = true)\n",
      " |-- 3/8/20: integer (nullable = true)\n",
      " |-- 3/9/20: integer (nullable = true)\n",
      " |-- 3/10/20: integer (nullable = true)\n",
      " |-- 3/11/20: integer (nullable = true)\n",
      " |-- 3/12/20: integer (nullable = true)\n",
      " |-- 3/13/20: integer (nullable = true)\n",
      " |-- 3/14/20: integer (nullable = true)\n",
      " |-- 3/15/20: integer (nullable = true)\n",
      " |-- 3/16/20: integer (nullable = true)\n",
      " |-- 3/17/20: integer (nullable = true)\n",
      " |-- 3/18/20: integer (nullable = true)\n",
      " |-- 3/19/20: integer (nullable = true)\n",
      " |-- 3/20/20: integer (nullable = true)\n",
      " |-- 3/21/20: integer (nullable = true)\n",
      " |-- 3/22/20: integer (nullable = true)\n",
      " |-- 3/23/20: integer (nullable = true)\n",
      " |-- 3/24/20: integer (nullable = true)\n",
      " |-- 3/25/20: integer (nullable = true)\n",
      " |-- 3/26/20: integer (nullable = true)\n",
      " |-- 3/27/20: integer (nullable = true)\n",
      " |-- 3/28/20: integer (nullable = true)\n",
      " |-- 3/29/20: integer (nullable = true)\n",
      " |-- 3/30/20: integer (nullable = true)\n",
      " |-- 3/31/20: integer (nullable = true)\n",
      " |-- 4/1/20: integer (nullable = true)\n",
      " |-- 4/2/20: integer (nullable = true)\n",
      " |-- 4/3/20: integer (nullable = true)\n",
      " |-- 4/4/20: integer (nullable = true)\n",
      " |-- 4/5/20: integer (nullable = true)\n",
      " |-- 4/6/20: integer (nullable = true)\n",
      " |-- 4/7/20: integer (nullable = true)\n",
      " |-- 4/8/20: integer (nullable = true)\n",
      " |-- 4/9/20: integer (nullable = true)\n",
      " |-- 4/10/20: integer (nullable = true)\n",
      " |-- 4/11/20: integer (nullable = true)\n",
      " |-- 4/12/20: integer (nullable = true)\n",
      " |-- 4/13/20: integer (nullable = true)\n",
      " |-- 4/14/20: integer (nullable = true)\n",
      " |-- 4/15/20: integer (nullable = true)\n",
      " |-- 4/16/20: integer (nullable = true)\n",
      " |-- 4/17/20: integer (nullable = true)\n",
      " |-- 4/18/20: integer (nullable = true)\n",
      " |-- 4/19/20: integer (nullable = true)\n",
      " |-- 4/20/20: integer (nullable = true)\n",
      " |-- 4/21/20: integer (nullable = true)\n",
      " |-- 4/22/20: integer (nullable = true)\n",
      " |-- 4/23/20: integer (nullable = true)\n",
      " |-- 4/24/20: integer (nullable = true)\n",
      " |-- 4/25/20: integer (nullable = true)\n",
      " |-- 4/26/20: integer (nullable = true)\n",
      " |-- 4/27/20: integer (nullable = true)\n",
      " |-- 4/28/20: integer (nullable = true)\n",
      " |-- 4/29/20: integer (nullable = true)\n",
      " |-- 4/30/20: integer (nullable = true)\n",
      " |-- 5/1/20: integer (nullable = true)\n",
      " |-- 5/2/20: integer (nullable = true)\n",
      " |-- 5/3/20: integer (nullable = true)\n",
      " |-- 5/4/20: integer (nullable = true)\n",
      " |-- 5/5/20: integer (nullable = true)\n",
      " |-- 5/6/20: integer (nullable = true)\n",
      " |-- 5/7/20: integer (nullable = true)\n",
      " |-- 5/8/20: integer (nullable = true)\n",
      " |-- 5/9/20: integer (nullable = true)\n",
      " |-- 5/10/20: integer (nullable = true)\n",
      " |-- 5/11/20: integer (nullable = true)\n",
      " |-- 5/12/20: integer (nullable = true)\n",
      " |-- 5/13/20: integer (nullable = true)\n",
      " |-- 5/14/20: integer (nullable = true)\n",
      " |-- 5/15/20: integer (nullable = true)\n",
      " |-- 5/16/20: integer (nullable = true)\n",
      " |-- 5/17/20: integer (nullable = true)\n",
      " |-- 5/18/20: integer (nullable = true)"
     ]
    }
   ],
   "source": [
    "#ccrg = Casos covid recuperados globalmente\n",
    "ccrg.printSchema()"
   ]
  },
  {
   "cell_type": "markdown",
   "metadata": {},
   "source": [
    "<h3>Paso 5-> Identificando comportamiento en Colombia, usando la muestra de medellin</h3>"
   ]
  },
  {
   "cell_type": "code",
   "execution_count": 19,
   "metadata": {},
   "outputs": [
    {
     "data": {
      "application/vnd.jupyter.widget-view+json": {
       "model_id": "c3bcbd09917a41158ecab87b0912bad0",
       "version_major": 2,
       "version_minor": 0
      },
      "text/plain": [
       "VBox()"
      ]
     },
     "metadata": {},
     "output_type": "display_data"
    },
    {
     "data": {
      "application/vnd.jupyter.widget-view+json": {
       "model_id": "",
       "version_major": 2,
       "version_minor": 0
      },
      "text/plain": [
       "FloatProgress(value=0.0, bar_style='info', description='Progress:', layout=Layout(height='25px', width='50%'),…"
      ]
     },
     "metadata": {},
     "output_type": "display_data"
    },
    {
     "name": "stdout",
     "output_type": "stream",
     "text": [
      "16295"
     ]
    }
   ],
   "source": [
    "cpcc.count()"
   ]
  },
  {
   "cell_type": "code",
   "execution_count": 20,
   "metadata": {},
   "outputs": [
    {
     "data": {
      "application/vnd.jupyter.widget-view+json": {
       "model_id": "2d67c37ac7924f43a3209119c894619f",
       "version_major": 2,
       "version_minor": 0
      },
      "text/plain": [
       "VBox()"
      ]
     },
     "metadata": {},
     "output_type": "display_data"
    },
    {
     "data": {
      "application/vnd.jupyter.widget-view+json": {
       "model_id": "",
       "version_major": 2,
       "version_minor": 0
      },
      "text/plain": [
       "FloatProgress(value=0.0, bar_style='info', description='Progress:', layout=Layout(height='25px', width='50%'),…"
      ]
     },
     "metadata": {},
     "output_type": "display_data"
    },
    {
     "name": "stdout",
     "output_type": "stream",
     "text": [
      "356"
     ]
    }
   ],
   "source": [
    "cpcc.filter(cpcc['Ciudad de ubicación']=='Medellín').count()"
   ]
  },
  {
   "cell_type": "code",
   "execution_count": 21,
   "metadata": {},
   "outputs": [
    {
     "data": {
      "application/vnd.jupyter.widget-view+json": {
       "model_id": "44916bc2c00646c185335adf54985b45",
       "version_major": 2,
       "version_minor": 0
      },
      "text/plain": [
       "VBox()"
      ]
     },
     "metadata": {},
     "output_type": "display_data"
    },
    {
     "data": {
      "application/vnd.jupyter.widget-view+json": {
       "model_id": "",
       "version_major": 2,
       "version_minor": 0
      },
      "text/plain": [
       "FloatProgress(value=0.0, bar_style='info', description='Progress:', layout=Layout(height='25px', width='50%'),…"
      ]
     },
     "metadata": {},
     "output_type": "display_data"
    },
    {
     "name": "stdout",
     "output_type": "stream",
     "text": [
      "200"
     ]
    }
   ],
   "source": [
    "cpcc.filter(cpcc['atención']=='Recuperado').filter(cpcc['Ciudad de ubicación']=='Medellín').count()"
   ]
  },
  {
   "cell_type": "code",
   "execution_count": 22,
   "metadata": {},
   "outputs": [
    {
     "data": {
      "application/vnd.jupyter.widget-view+json": {
       "model_id": "3c98be8119a34510a4aed9fc1420ca9d",
       "version_major": 2,
       "version_minor": 0
      },
      "text/plain": [
       "VBox()"
      ]
     },
     "metadata": {},
     "output_type": "display_data"
    },
    {
     "data": {
      "application/vnd.jupyter.widget-view+json": {
       "model_id": "",
       "version_major": 2,
       "version_minor": 0
      },
      "text/plain": [
       "FloatProgress(value=0.0, bar_style='info', description='Progress:', layout=Layout(height='25px', width='50%'),…"
      ]
     },
     "metadata": {},
     "output_type": "display_data"
    },
    {
     "name": "stdout",
     "output_type": "stream",
     "text": [
      "141"
     ]
    }
   ],
   "source": [
    "cpcc.filter(cpcc['atención']=='Casa').filter(cpcc['Ciudad de ubicación']=='Medellín').count()"
   ]
  },
  {
   "cell_type": "code",
   "execution_count": 23,
   "metadata": {},
   "outputs": [
    {
     "data": {
      "application/vnd.jupyter.widget-view+json": {
       "model_id": "7c5faf4715e344a8972f6acdc48b6a22",
       "version_major": 2,
       "version_minor": 0
      },
      "text/plain": [
       "VBox()"
      ]
     },
     "metadata": {},
     "output_type": "display_data"
    },
    {
     "data": {
      "application/vnd.jupyter.widget-view+json": {
       "model_id": "",
       "version_major": 2,
       "version_minor": 0
      },
      "text/plain": [
       "FloatProgress(value=0.0, bar_style='info', description='Progress:', layout=Layout(height='25px', width='50%'),…"
      ]
     },
     "metadata": {},
     "output_type": "display_data"
    },
    {
     "name": "stdout",
     "output_type": "stream",
     "text": [
      "8"
     ]
    }
   ],
   "source": [
    "cpcc.filter(cpcc['atención']=='Hospital').filter(cpcc['Ciudad de ubicación']=='Medellín').count()"
   ]
  },
  {
   "cell_type": "code",
   "execution_count": 24,
   "metadata": {},
   "outputs": [
    {
     "data": {
      "application/vnd.jupyter.widget-view+json": {
       "model_id": "a311583bb11f497ca0d7f93fa4737428",
       "version_major": 2,
       "version_minor": 0
      },
      "text/plain": [
       "VBox()"
      ]
     },
     "metadata": {},
     "output_type": "display_data"
    },
    {
     "data": {
      "application/vnd.jupyter.widget-view+json": {
       "model_id": "",
       "version_major": 2,
       "version_minor": 0
      },
      "text/plain": [
       "FloatProgress(value=0.0, bar_style='info', description='Progress:', layout=Layout(height='25px', width='50%'),…"
      ]
     },
     "metadata": {},
     "output_type": "display_data"
    },
    {
     "name": "stdout",
     "output_type": "stream",
     "text": [
      "+----+----+-------------------+--------------------+\n",
      "|Edad|Sexo|Ciudad de ubicación|     Fecha de muerte|\n",
      "+----+----+-------------------+--------------------+\n",
      "|  91|   F|           Medellín|2020-04-03T00:00:...|\n",
      "|  67|   M|           Medellín|2020-04-18T00:00:...|\n",
      "|  74|   M|           Medellín|2020-04-27T00:00:...|\n",
      "+----+----+-------------------+--------------------+"
     ]
    }
   ],
   "source": [
    "cpcc.filter(cpcc['atención']=='Fallecido').filter(cpcc['Ciudad de ubicación']=='Medellín').select('Edad','Sexo','Ciudad de ubicación','Fecha de muerte').show(10)"
   ]
  },
  {
   "cell_type": "code",
   "execution_count": 25,
   "metadata": {},
   "outputs": [
    {
     "data": {
      "application/vnd.jupyter.widget-view+json": {
       "model_id": "ed060ed3dda74792aa6667349c72fac6",
       "version_major": 2,
       "version_minor": 0
      },
      "text/plain": [
       "VBox()"
      ]
     },
     "metadata": {},
     "output_type": "display_data"
    },
    {
     "data": {
      "application/vnd.jupyter.widget-view+json": {
       "model_id": "",
       "version_major": 2,
       "version_minor": 0
      },
      "text/plain": [
       "FloatProgress(value=0.0, bar_style='info', description='Progress:', layout=Layout(height='25px', width='50%'),…"
      ]
     },
     "metadata": {},
     "output_type": "display_data"
    },
    {
     "name": "stdout",
     "output_type": "stream",
     "text": [
      "+------------+----+----+-------------------+\n",
      "|    atención|Edad|Sexo|Ciudad de ubicación|\n",
      "+------------+----+----+-------------------+\n",
      "|Hospital UCI|  56|   M|           Medellín|\n",
      "|Hospital UCI|  37|   M|           Medellín|\n",
      "|Hospital UCI|  71|   F|           Medellín|\n",
      "|Hospital UCI|  80|   M|           Medellín|\n",
      "+------------+----+----+-------------------+"
     ]
    }
   ],
   "source": [
    "cpcc.filter(cpcc['atención']=='Hospital UCI').filter(cpcc['Ciudad de ubicación']=='Medellín').select('atención','Edad','Sexo','Ciudad de ubicación').show(30)"
   ]
  },
  {
   "cell_type": "raw",
   "metadata": {},
   "source": [
    "Patron-> La ciudad ha tenido un comportamiento favorable de un total de 16295 casos, la ciudad solo tiene 356: Diistribuidos d ela siguiente forma, 200 recuperados, 141 enviados a casa, 8 Hospitalizados, 4 en una unidad UCI(Unidad de Cuidados Intensivos)y 3 Fallecidos."
   ]
  },
  {
   "cell_type": "markdown",
   "metadata": {},
   "source": [
    "<h3>Paso 6-> Vamos a revisar la proporción de casos de covid en el mundo con respecto a Colombia </h3>"
   ]
  },
  {
   "cell_type": "code",
   "execution_count": 26,
   "metadata": {},
   "outputs": [
    {
     "data": {
      "application/vnd.jupyter.widget-view+json": {
       "model_id": "4ebdf3bd9ead43279d96a84dee38c405",
       "version_major": 2,
       "version_minor": 0
      },
      "text/plain": [
       "VBox()"
      ]
     },
     "metadata": {},
     "output_type": "display_data"
    },
    {
     "data": {
      "application/vnd.jupyter.widget-view+json": {
       "model_id": "",
       "version_major": 2,
       "version_minor": 0
      },
      "text/plain": [
       "FloatProgress(value=0.0, bar_style='info', description='Progress:', layout=Layout(height='25px', width='50%'),…"
      ]
     },
     "metadata": {},
     "output_type": "display_data"
    },
    {
     "name": "stdout",
     "output_type": "stream",
     "text": [
      "266"
     ]
    }
   ],
   "source": [
    "cccg.count()"
   ]
  },
  {
   "cell_type": "code",
   "execution_count": 27,
   "metadata": {},
   "outputs": [
    {
     "data": {
      "application/vnd.jupyter.widget-view+json": {
       "model_id": "b10af768797846f09c651d44c6081e55",
       "version_major": 2,
       "version_minor": 0
      },
      "text/plain": [
       "VBox()"
      ]
     },
     "metadata": {},
     "output_type": "display_data"
    },
    {
     "data": {
      "application/vnd.jupyter.widget-view+json": {
       "model_id": "",
       "version_major": 2,
       "version_minor": 0
      },
      "text/plain": [
       "FloatProgress(value=0.0, bar_style='info', description='Progress:', layout=Layout(height='25px', width='50%'),…"
      ]
     },
     "metadata": {},
     "output_type": "display_data"
    },
    {
     "name": "stdout",
     "output_type": "stream",
     "text": [
      "+--------------+-------+\n",
      "|Country/Region|5/18/20|\n",
      "+--------------+-------+\n",
      "|      Colombia|  16295|\n",
      "+--------------+-------+"
     ]
    }
   ],
   "source": [
    "cccg.filter(cccg['Country/Region']=='Colombia').select('Country/Region','5/18/20',).show(30)"
   ]
  },
  {
   "cell_type": "code",
   "execution_count": 28,
   "metadata": {},
   "outputs": [
    {
     "data": {
      "application/vnd.jupyter.widget-view+json": {
       "model_id": "972545fc823e4bfd958e83fce622c6a6",
       "version_major": 2,
       "version_minor": 0
      },
      "text/plain": [
       "VBox()"
      ]
     },
     "metadata": {},
     "output_type": "display_data"
    },
    {
     "data": {
      "application/vnd.jupyter.widget-view+json": {
       "model_id": "",
       "version_major": 2,
       "version_minor": 0
      },
      "text/plain": [
       "FloatProgress(value=0.0, bar_style='info', description='Progress:', layout=Layout(height='25px', width='50%'),…"
      ]
     },
     "metadata": {},
     "output_type": "display_data"
    },
    {
     "name": "stdout",
     "output_type": "stream",
     "text": [
      "+--------------------+-------+\n",
      "|      Country/Region|5/18/20|\n",
      "+--------------------+-------+\n",
      "|          Bangladesh|  23870|\n",
      "|             Belarus|  30572|\n",
      "|             Belgium|  55559|\n",
      "|              Brazil| 255368|\n",
      "|              Canada|  24286|\n",
      "|              Canada|  43636|\n",
      "|               Chile|  46059|\n",
      "|               China|  68135|\n",
      "|            Colombia|  16295|\n",
      "|             Ecuador|  33582|\n",
      "|              France| 177554|\n",
      "|             Germany| 176551|\n",
      "|               India| 100328|\n",
      "|           Indonesia|  18010|\n",
      "|                Iran| 122492|\n",
      "|             Ireland|  24200|\n",
      "|              Israel|  16643|\n",
      "|               Italy| 225886|\n",
      "|               Japan|  16305|\n",
      "|              Mexico|  51633|\n",
      "|         Netherlands|  44141|\n",
      "|            Pakistan|  42125|\n",
      "|                Peru|  94933|\n",
      "|              Poland|  18885|\n",
      "|            Portugal|  29209|\n",
      "|               Qatar|  33969|\n",
      "|             Romania|  17036|\n",
      "|              Russia| 290678|\n",
      "|        Saudi Arabia|  57345|\n",
      "|           Singapore|  28343|\n",
      "|        South Africa|  16433|\n",
      "|               Spain| 231606|\n",
      "|              Sweden|  30377|\n",
      "|         Switzerland|  30597|\n",
      "|              Turkey| 150593|\n",
      "|             Ukraine|  18616|\n",
      "|United Arab Emirates|  24190|\n",
      "|      United Kingdom| 246406|\n",
      "|                  US|1508308|\n",
      "+--------------------+-------+"
     ]
    }
   ],
   "source": [
    "cccg.filter(cccg['5/18/20']>='16295').select('Country/Region','5/18/20',).show(39)"
   ]
  },
  {
   "cell_type": "markdown",
   "metadata": {},
   "source": [
    "Conclusión-> Hay 266 paises con covid 19, para la ultima fecha del informe, osea el 5/18/20 Colombia tenía en total 16.295 y en el mundo hay 39 países con más casos que colombia, siendo el caso más preocupando Estados Unidos(US) con 1'508.308"
   ]
  },
  {
   "cell_type": "code",
   "execution_count": 29,
   "metadata": {},
   "outputs": [
    {
     "data": {
      "application/vnd.jupyter.widget-view+json": {
       "model_id": "2f791b50c17140a7abf6220f31c6af9d",
       "version_major": 2,
       "version_minor": 0
      },
      "text/plain": [
       "VBox()"
      ]
     },
     "metadata": {},
     "output_type": "display_data"
    },
    {
     "data": {
      "application/vnd.jupyter.widget-view+json": {
       "model_id": "",
       "version_major": 2,
       "version_minor": 0
      },
      "text/plain": [
       "FloatProgress(value=0.0, bar_style='info', description='Progress:', layout=Layout(height='25px', width='50%'),…"
      ]
     },
     "metadata": {},
     "output_type": "display_data"
    }
   ],
   "source": [
    "#cpcc = Casos positivos covid Colombia\n",
    "#dcc = Datos covid Colombia \n",
    "#cccg = Casos covid confirmados globalmente\n",
    "#ccmg = Casos covid muertos globalmente\n",
    "#ccrg = Casos covid recuperados globalmente"
   ]
  }
 ],
 "metadata": {
  "kernelspec": {
   "display_name": "PySpark",
   "language": "",
   "name": "pysparkkernel"
  },
  "language_info": {
   "codemirror_mode": {
    "name": "python",
    "version": 3
   },
   "mimetype": "text/x-python",
   "name": "pyspark",
   "pygments_lexer": "python3"
  }
 },
 "nbformat": 4,
 "nbformat_minor": 4
}
